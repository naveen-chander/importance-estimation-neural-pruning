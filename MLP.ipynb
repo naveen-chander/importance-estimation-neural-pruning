{
 "cells": [
  {
   "cell_type": "markdown",
   "metadata": {},
   "source": [
    "# <b>Importance Estimation for Neural Network Pruning</b>\n",
    "---\n",
    "<b>Author</b> : V.Naveen Chander <br>\n",
    "<b>Objective</b>    : Optimizing Convolutional Neural networks <br>\n",
    "<b>Introduction</b> : This Notebook Demonstarates a framework for Optimizing MultiLayer Perceptron Neural Network. <br> \n",
    "<b>Keypoints</b>    : Importance Estimation, Iterative Training and Pruning <br>\n",
    "<b>Built using</b> : Tensorflow, Keras <br>\n",
    "<b>Run Time</b>     : 5 minutes \n",
    " "
   ]
  },
  {
   "attachments": {
    "image.png": {
     "image/png": "[encoded data removed]"
    }
   },
   "cell_type": "markdown",
   "metadata": {},
   "source": [
    "# MLP Architecture\n",
    "![image.png](attachment:image.png)\n",
    "Layer 1: <b>Dense 784x 256 </b> <br>\n",
    "Layer 2: <b>Dense 256x 16 </b> <br> \n",
    "Layer 3: <b>Dense 16x 10 with SoftMax</b> <br> \n",
    "Total NUmber of Model parameters : <b>209,514</b>"
   ]
  },
  {
   "cell_type": "markdown",
   "metadata": {},
   "source": [
    "<b>1. Import Dependencies</b>"
   ]
  },
  {
   "cell_type": "code",
   "execution_count": 1,
   "metadata": {},
   "outputs": [
    {
     "name": "stderr",
     "output_type": "stream",
     "text": [
      "C:\\Users\\mghnv\\Anaconda3\\lib\\site-packages\\tensorflow\\python\\framework\\dtypes.py:526: FutureWarning: Passing (type, 1) or '1type' as a synonym of type is deprecated; in a future version of numpy, it will be understood as (type, (1,)) / '(1,)type'.\n",
      "  _np_qint8 = np.dtype([(\"qint8\", np.int8, 1)])\n",
      "C:\\Users\\mghnv\\Anaconda3\\lib\\site-packages\\tensorflow\\python\\framework\\dtypes.py:527: FutureWarning: Passing (type, 1) or '1type' as a synonym of type is deprecated; in a future version of numpy, it will be understood as (type, (1,)) / '(1,)type'.\n",
      "  _np_quint8 = np.dtype([(\"quint8\", np.uint8, 1)])\n",
      "C:\\Users\\mghnv\\Anaconda3\\lib\\site-packages\\tensorflow\\python\\framework\\dtypes.py:528: FutureWarning: Passing (type, 1) or '1type' as a synonym of type is deprecated; in a future version of numpy, it will be understood as (type, (1,)) / '(1,)type'.\n",
      "  _np_qint16 = np.dtype([(\"qint16\", np.int16, 1)])\n",
      "C:\\Users\\mghnv\\Anaconda3\\lib\\site-packages\\tensorflow\\python\\framework\\dtypes.py:529: FutureWarning: Passing (type, 1) or '1type' as a synonym of type is deprecated; in a future version of numpy, it will be understood as (type, (1,)) / '(1,)type'.\n",
      "  _np_quint16 = np.dtype([(\"quint16\", np.uint16, 1)])\n",
      "C:\\Users\\mghnv\\Anaconda3\\lib\\site-packages\\tensorflow\\python\\framework\\dtypes.py:530: FutureWarning: Passing (type, 1) or '1type' as a synonym of type is deprecated; in a future version of numpy, it will be understood as (type, (1,)) / '(1,)type'.\n",
      "  _np_qint32 = np.dtype([(\"qint32\", np.int32, 1)])\n",
      "C:\\Users\\mghnv\\Anaconda3\\lib\\site-packages\\tensorflow\\python\\framework\\dtypes.py:535: FutureWarning: Passing (type, 1) or '1type' as a synonym of type is deprecated; in a future version of numpy, it will be understood as (type, (1,)) / '(1,)type'.\n",
      "  np_resource = np.dtype([(\"resource\", np.ubyte, 1)])\n",
      "Using TensorFlow backend.\n"
     ]
    }
   ],
   "source": [
    "import tensorflow as tf\n",
    "import math\n",
    "from keras import layers\n",
    "from keras import models\n",
    "import matplotlib.pyplot as plt\n",
    "import numpy as np\n",
    "%matplotlib inline\n",
    "from kerassurgeon import identify\n",
    "from kerassurgeon.operations import delete_channels,delete_layer\n",
    "from keras.datasets import mnist\n",
    "from keras.utils import to_categorical\n",
    "\n",
    "def build_model(num):\n",
    "    model = models.Sequential()\n",
    "    model.add(layers.InputLayer(input_shape=(28, 28,1)))\n",
    "    model.add(layers.Flatten())\n",
    "    model.add(layers.Dense(num, activation='relu'))\n",
    "    model.add(layers.Dense(32, activation='relu'))\n",
    "    model.add(layers.Dense(10, activation='softmax'))\n",
    "    model.summary()\n",
    "    return model"
   ]
  },
  {
   "cell_type": "markdown",
   "metadata": {},
   "source": [
    "<b>2. Train on MNIST Dataset"
   ]
  },
  {
   "cell_type": "code",
   "execution_count": 2,
   "metadata": {},
   "outputs": [
    {
     "name": "stdout",
     "output_type": "stream",
     "text": [
      "WARNING:tensorflow:From C:\\Users\\mghnv\\Anaconda3\\lib\\site-packages\\tensorflow\\python\\framework\\op_def_library.py:263: colocate_with (from tensorflow.python.framework.ops) is deprecated and will be removed in a future version.\n",
      "Instructions for updating:\n",
      "Colocations handled automatically by placer.\n"
     ]
    },
    {
     "name": "stderr",
     "output_type": "stream",
     "text": [
      "WARNING:tensorflow:From C:\\Users\\mghnv\\Anaconda3\\lib\\site-packages\\tensorflow\\python\\framework\\op_def_library.py:263: colocate_with (from tensorflow.python.framework.ops) is deprecated and will be removed in a future version.\n",
      "Instructions for updating:\n",
      "Colocations handled automatically by placer.\n"
     ]
    },
    {
     "name": "stdout",
     "output_type": "stream",
     "text": [
      "_________________________________________________________________\n",
      "Layer (type)                 Output Shape              Param #   \n",
      "=================================================================\n",
      "input_1 (InputLayer)         (None, 28, 28, 1)         0         \n",
      "_________________________________________________________________\n",
      "flatten_1 (Flatten)          (None, 784)               0         \n",
      "_________________________________________________________________\n",
      "dense_1 (Dense)              (None, 256)               200960    \n",
      "_________________________________________________________________\n",
      "dense_2 (Dense)              (None, 32)                8224      \n",
      "_________________________________________________________________\n",
      "dense_3 (Dense)              (None, 10)                330       \n",
      "=================================================================\n",
      "Total params: 209,514\n",
      "Trainable params: 209,514\n",
      "Non-trainable params: 0\n",
      "_________________________________________________________________\n",
      "WARNING:tensorflow:From C:\\Users\\mghnv\\Anaconda3\\lib\\site-packages\\tensorflow\\python\\ops\\math_ops.py:3066: to_int32 (from tensorflow.python.ops.math_ops) is deprecated and will be removed in a future version.\n",
      "Instructions for updating:\n",
      "Use tf.cast instead.\n"
     ]
    },
    {
     "name": "stderr",
     "output_type": "stream",
     "text": [
      "WARNING:tensorflow:From C:\\Users\\mghnv\\Anaconda3\\lib\\site-packages\\tensorflow\\python\\ops\\math_ops.py:3066: to_int32 (from tensorflow.python.ops.math_ops) is deprecated and will be removed in a future version.\n",
      "Instructions for updating:\n",
      "Use tf.cast instead.\n"
     ]
    },
    {
     "name": "stdout",
     "output_type": "stream",
     "text": [
      "Train on 54000 samples, validate on 6000 samples\n",
      "Epoch 1/5\n",
      "54000/54000 [==============================] - 4s 67us/step - loss: 0.2959 - acc: 0.9163 - val_loss: 0.1161 - val_acc: 0.9693\n",
      "Epoch 2/5\n",
      "54000/54000 [==============================] - 3s 53us/step - loss: 0.1185 - acc: 0.9654 - val_loss: 0.0946 - val_acc: 0.9742\n",
      "Epoch 3/5\n",
      "54000/54000 [==============================] - 3s 52us/step - loss: 0.0771 - acc: 0.9766 - val_loss: 0.0821 - val_acc: 0.9758\n",
      "Epoch 4/5\n",
      "54000/54000 [==============================] - 3s 51us/step - loss: 0.0556 - acc: 0.9828 - val_loss: 0.0763 - val_acc: 0.9780\n",
      "Epoch 5/5\n",
      "54000/54000 [==============================] - 3s 51us/step - loss: 0.0424 - acc: 0.9868 - val_loss: 0.0774 - val_acc: 0.9800\n",
      "10000/10000 [==============================] - 0s 29us/step\n",
      "first test accuracy: 0.974\n"
     ]
    }
   ],
   "source": [
    "# Prepare the Dataset\n",
    "(train_images, train_labels), (test_images, test_labels) = mnist.load_data()\n",
    "\n",
    "train_images = train_images.reshape((60000, 28, 28, 1))\n",
    "test_images  = test_images.reshape((10000, 28, 28, 1))\n",
    "# Normallize\n",
    "train_images = train_images.astype('float32')/255\n",
    "test_images  = test_images.astype('float32')/255\n",
    "\n",
    "# Convert from Numbers (0 ->9) to Binary Classes\n",
    "train_labels = to_categorical(train_labels)\n",
    "test_labels  = to_categorical(test_labels)\n",
    "# Build and Compile model\n",
    "model = build_model(256)\n",
    "orig_model = model  # Copy of the original model\n",
    "# Train the digit classification model\n",
    "#opt = tf.keras.optimizers.Adam()\n",
    "model.compile(loss='categorical_crossentropy', optimizer='adam',metrics=['accuracy'])\n",
    "# Train Model\n",
    "model.fit(train_images, train_labels,batch_size=100, epochs=5, validation_split=0.1)\n",
    "# Evaluate MOdel\n",
    "test_loss, test_acc = model.evaluate(test_images, test_labels)\n",
    "#\n",
    "print('first test accuracy:', test_acc)\n"
   ]
  },
  {
   "cell_type": "markdown",
   "metadata": {},
   "source": [
    "<b>3. Define Importance Function</b>"
   ]
  },
  {
   "cell_type": "code",
   "execution_count": 3,
   "metadata": {},
   "outputs": [],
   "source": [
    "# Gradient Computation\n",
    "def compute_gradient(model):\n",
    "    images = tf.convert_to_tensor(train_images, dtype=tf.float32)\n",
    "    train_labels_tf = tf.convert_to_tensor(train_labels, dtype=tf.int64)\n",
    "    logits = model(images)\n",
    "    loss_value = tf.keras.backend.categorical_crossentropy(train_labels_tf,logits,from_logits=True)\n",
    "    #tf.enable_eager_execution()\n",
    "    grads = tf.gradients(loss_value, model.trainable_weights,unconnected_gradients='zero')\n",
    "    # Initialisation operation\n",
    "    init = tf.global_variables_initializer()\n",
    "    # Creating a session and running the graph\n",
    "    with tf.Session() as sess:\n",
    "        sess.run(init)\n",
    "        dW_np = sess.run(grads)\n",
    "    return (dW_np)"
   ]
  },
  {
   "attachments": {
    "image.png": {
     "image/png": "[encoded data removed]"
    }
   },
   "cell_type": "markdown",
   "metadata": {},
   "source": [
    "<b>4. Compute Importance for all Weights</b><br>\n",
    "---\n",
    "<font color=blue><b>Implements Importance Pruning Algorithm based on paper titled,\n",
    "\"Importance Estimation for Neural Netowrk Pruning\", [Molchanov et.al 2019] </b><br></font>\n",
    "\n",
    "<b>Importance of each model parameter is calculated by </br>\n",
    "    ![image.png](attachment:image.png)\n",
    "\n",
    "where, Im = Importance of mth model parameter <br>\n",
    "gm = gradient of a model parameter w.r.t to Cost Function(Train Error)<br>\n",
    "wm = Weight "
   ]
  },
  {
   "cell_type": "code",
   "execution_count": 4,
   "metadata": {},
   "outputs": [],
   "source": [
    "# Compute Importance Values\n",
    "grad = compute_gradient(model)\n",
    "weights = model.get_weights()\n",
    "importance = []\n",
    "for i in range(len(grad)):\n",
    "    imp = np.multiply(grad[i],weights[i])\n",
    "    imp = np.multiply(imp,imp)\n",
    "    importance.append(imp)"
   ]
  },
  {
   "cell_type": "code",
   "execution_count": 64,
   "metadata": {},
   "outputs": [
    {
     "data": {
      "text/plain": [
       "11899"
      ]
     },
     "execution_count": 64,
     "metadata": {},
     "output_type": "execute_result"
    }
   ],
   "source": [
    "max_val = (importance[0]).max()\n",
    "importance[0].shape\n",
    "imp_val_arr = importance[0].flatten()\n",
    "imp_val_list = imp_val_arr.tolist()\n",
    "len([x for x in imp_val_list if x > 0.005*max_val])"
   ]
  },
  {
   "cell_type": "markdown",
   "metadata": {},
   "source": [
    "<b>5. Plot the Importance Values of all Model Parameters"
   ]
  },
  {
   "cell_type": "code",
   "execution_count": 6,
   "metadata": {},
   "outputs": [
    {
     "data": {
      "image/png": "[encoded data removed]",
      "text/plain": [
       "<Figure size 288x288 with 1 Axes>"
      ]
     },
     "metadata": {
      "needs_background": "light"
     },
     "output_type": "display_data"
    }
   ],
   "source": [
    "plt.figure(figsize=(4,4))\n",
    "for i in range(len(importance)):\n",
    "    if(i%2==0):\n",
    "        x = importance[i]\n",
    "        x=x.reshape(1,-1)\n",
    "        x.sort()\n",
    "        if(int((i+2)/2)==1):\n",
    "            plt.plot(x.T,color='r',label=\"Layer1 784x32\")\n",
    "        elif(int((i+2)/2)==2):\n",
    "            plt.plot(x.T,color='g',label='Layer2 32x16')\n",
    "        elif(int((i+2)/2)==3):\n",
    "            plt.plot(x.T,color='b',label='Layer3 16x10')\n",
    "plt.title(\"Layer-wise Importance PLots for MLP\",fontsize=10) \n",
    "plt.xlabel('Weight_Num')\n",
    "plt.ylabel('Importance')    \n",
    "plt.grid(True)\n",
    "plt.legend(loc = 'upper right')\n",
    "plt.show()"
   ]
  },
  {
   "cell_type": "markdown",
   "metadata": {},
   "source": [
    "<b>Plot Layer-wise Importance Values in Seperate plots</b>"
   ]
  },
  {
   "cell_type": "code",
   "execution_count": 65,
   "metadata": {},
   "outputs": [
    {
     "data": {
      "image/png": "[encoded data removed]",
      "text/plain": [
       "<Figure size 288x1080 with 3 Axes>"
      ]
     },
     "metadata": {
      "needs_background": "light"
     },
     "output_type": "display_data"
    }
   ],
   "source": [
    "# plot Layer-wise Importance Values\n",
    "fig, axs = plt.subplots(3,figsize=(4,15))\n",
    "for i in range(len(importance)):\n",
    "    if(i%2==0):\n",
    "        x = importance[i]\n",
    "        x=x.reshape(1,-1)\n",
    "        x.sort()\n",
    "        #plt.style.use('dark_background')   \n",
    "        #axs.figure(figsize=(4,4))\n",
    "        axs[int(i/2)].set_title((\"Layer \"+str(int(i/2+1))),fontsize=6)\n",
    "        axs[int(i/2)].plot(x.T,color='b')\n",
    "        axs[int(i/2)].set(xlabel='Sorted_WIndex-->',ylabel='Importance')\n",
    "        axs[int(i/2)].grid(True)\n",
    "for ax in axs.flat:\n",
    "    ax.label_outer()"
   ]
  },
  {
   "cell_type": "markdown",
   "metadata": {},
   "source": [
    "<b>OBSERVATIONS</b><br>\n",
    "1.\tImportance values decrease from last layer to first layer. The relatively low importance of the first hidden layer neurons and weights when compared to those in the last layer allow us to prune a larger percentage of weights from the first hidden layer.\n",
    "2.\tIn the fits hidden layer, most of the weights have relative importance close to zero and a clear set of weights have high importance values.\n"
   ]
  },
  {
   "cell_type": "markdown",
   "metadata": {},
   "source": [
    "<b>PRUNING CRITERIA</b><br>\n",
    "•\tRetain parameters that have Importance Value >= 0.5% of the maximum Importance Value. <br>\n",
    "•\tHere, 0.5% is the Hyper-parameter. <br>\n",
    "•\tSecond and Third layers shall not be pruned.<br>\n"
   ]
  },
  {
   "cell_type": "markdown",
   "metadata": {},
   "source": [
    "---\n",
    "## <b> Prune and Train Iteratively</b>\n",
    "---"
   ]
  },
  {
   "cell_type": "code",
   "execution_count": 30,
   "metadata": {},
   "outputs": [
    {
     "name": "stdout",
     "output_type": "stream",
     "text": [
      "_________________________________________________________________\n",
      "Layer (type)                 Output Shape              Param #   \n",
      "=================================================================\n",
      "input_24 (InputLayer)        (None, 28, 28, 1)         0         \n",
      "_________________________________________________________________\n",
      "flatten_24 (Flatten)         (None, 784)               0         \n",
      "_________________________________________________________________\n",
      "dense_70 (Dense)             (None, 243)               190755    \n",
      "_________________________________________________________________\n",
      "dense_71 (Dense)             (None, 32)                7808      \n",
      "_________________________________________________________________\n",
      "dense_72 (Dense)             (None, 10)                330       \n",
      "=================================================================\n",
      "Total params: 198,893\n",
      "Trainable params: 198,893\n",
      "Non-trainable params: 0\n",
      "_________________________________________________________________\n",
      "10000/10000 [==============================] - 0s 45us/step\n",
      "_________________________________________________________________\n",
      "Layer (type)                 Output Shape              Param #   \n",
      "=================================================================\n",
      "input_25 (InputLayer)        (None, 28, 28, 1)         0         \n",
      "_________________________________________________________________\n",
      "flatten_25 (Flatten)         (None, 784)               0         \n",
      "_________________________________________________________________\n",
      "dense_73 (Dense)             (None, 230)               180550    \n",
      "_________________________________________________________________\n",
      "dense_74 (Dense)             (None, 32)                7392      \n",
      "_________________________________________________________________\n",
      "dense_75 (Dense)             (None, 10)                330       \n",
      "=================================================================\n",
      "Total params: 188,272\n",
      "Trainable params: 188,272\n",
      "Non-trainable params: 0\n",
      "_________________________________________________________________\n",
      "10000/10000 [==============================] - 0s 48us/step\n",
      "_________________________________________________________________\n",
      "Layer (type)                 Output Shape              Param #   \n",
      "=================================================================\n",
      "input_26 (InputLayer)        (None, 28, 28, 1)         0         \n",
      "_________________________________________________________________\n",
      "flatten_26 (Flatten)         (None, 784)               0         \n",
      "_________________________________________________________________\n",
      "dense_76 (Dense)             (None, 217)               170345    \n",
      "_________________________________________________________________\n",
      "dense_77 (Dense)             (None, 32)                6976      \n",
      "_________________________________________________________________\n",
      "dense_78 (Dense)             (None, 10)                330       \n",
      "=================================================================\n",
      "Total params: 177,651\n",
      "Trainable params: 177,651\n",
      "Non-trainable params: 0\n",
      "_________________________________________________________________\n",
      "10000/10000 [==============================] - 0s 43us/step\n",
      "_________________________________________________________________\n",
      "Layer (type)                 Output Shape              Param #   \n",
      "=================================================================\n",
      "input_27 (InputLayer)        (None, 28, 28, 1)         0         \n",
      "_________________________________________________________________\n",
      "flatten_27 (Flatten)         (None, 784)               0         \n",
      "_________________________________________________________________\n",
      "dense_79 (Dense)             (None, 204)               160140    \n",
      "_________________________________________________________________\n",
      "dense_80 (Dense)             (None, 32)                6560      \n",
      "_________________________________________________________________\n",
      "dense_81 (Dense)             (None, 10)                330       \n",
      "=================================================================\n",
      "Total params: 167,030\n",
      "Trainable params: 167,030\n",
      "Non-trainable params: 0\n",
      "_________________________________________________________________\n",
      "10000/10000 [==============================] - 1s 53us/step\n",
      "_________________________________________________________________\n",
      "Layer (type)                 Output Shape              Param #   \n",
      "=================================================================\n",
      "input_28 (InputLayer)        (None, 28, 28, 1)         0         \n",
      "_________________________________________________________________\n",
      "flatten_28 (Flatten)         (None, 784)               0         \n",
      "_________________________________________________________________\n",
      "dense_82 (Dense)             (None, 192)               150720    \n",
      "_________________________________________________________________\n",
      "dense_83 (Dense)             (None, 32)                6176      \n",
      "_________________________________________________________________\n",
      "dense_84 (Dense)             (None, 10)                330       \n",
      "=================================================================\n",
      "Total params: 157,226\n",
      "Trainable params: 157,226\n",
      "Non-trainable params: 0\n",
      "_________________________________________________________________\n",
      "10000/10000 [==============================] - 0s 49us/step\n",
      "_________________________________________________________________\n",
      "Layer (type)                 Output Shape              Param #   \n",
      "=================================================================\n",
      "input_29 (InputLayer)        (None, 28, 28, 1)         0         \n",
      "_________________________________________________________________\n",
      "flatten_29 (Flatten)         (None, 784)               0         \n",
      "_________________________________________________________________\n",
      "dense_85 (Dense)             (None, 179)               140515    \n",
      "_________________________________________________________________\n",
      "dense_86 (Dense)             (None, 32)                5760      \n",
      "_________________________________________________________________\n",
      "dense_87 (Dense)             (None, 10)                330       \n",
      "=================================================================\n",
      "Total params: 146,605\n",
      "Trainable params: 146,605\n",
      "Non-trainable params: 0\n",
      "_________________________________________________________________\n",
      "10000/10000 [==============================] - 1s 64us/step\n",
      "_________________________________________________________________\n",
      "Layer (type)                 Output Shape              Param #   \n",
      "=================================================================\n",
      "input_30 (InputLayer)        (None, 28, 28, 1)         0         \n",
      "_________________________________________________________________\n",
      "flatten_30 (Flatten)         (None, 784)               0         \n",
      "_________________________________________________________________\n",
      "dense_88 (Dense)             (None, 166)               130310    \n",
      "_________________________________________________________________\n",
      "dense_89 (Dense)             (None, 32)                5344      \n",
      "_________________________________________________________________\n",
      "dense_90 (Dense)             (None, 10)                330       \n",
      "=================================================================\n",
      "Total params: 135,984\n",
      "Trainable params: 135,984\n",
      "Non-trainable params: 0\n",
      "_________________________________________________________________\n",
      "10000/10000 [==============================] - 1s 54us/step\n",
      "_________________________________________________________________\n",
      "Layer (type)                 Output Shape              Param #   \n",
      "=================================================================\n",
      "input_31 (InputLayer)        (None, 28, 28, 1)         0         \n",
      "_________________________________________________________________\n",
      "flatten_31 (Flatten)         (None, 784)               0         \n",
      "_________________________________________________________________\n",
      "dense_91 (Dense)             (None, 153)               120105    \n",
      "_________________________________________________________________\n",
      "dense_92 (Dense)             (None, 32)                4928      \n",
      "_________________________________________________________________\n",
      "dense_93 (Dense)             (None, 10)                330       \n",
      "=================================================================\n",
      "Total params: 125,363\n",
      "Trainable params: 125,363\n",
      "Non-trainable params: 0\n",
      "_________________________________________________________________\n"
     ]
    },
    {
     "name": "stdout",
     "output_type": "stream",
     "text": [
      "10000/10000 [==============================] - 1s 81us/step\n",
      "_________________________________________________________________\n",
      "Layer (type)                 Output Shape              Param #   \n",
      "=================================================================\n",
      "input_32 (InputLayer)        (None, 28, 28, 1)         0         \n",
      "_________________________________________________________________\n",
      "flatten_32 (Flatten)         (None, 784)               0         \n",
      "_________________________________________________________________\n",
      "dense_94 (Dense)             (None, 140)               109900    \n",
      "_________________________________________________________________\n",
      "dense_95 (Dense)             (None, 32)                4512      \n",
      "_________________________________________________________________\n",
      "dense_96 (Dense)             (None, 10)                330       \n",
      "=================================================================\n",
      "Total params: 114,742\n",
      "Trainable params: 114,742\n",
      "Non-trainable params: 0\n",
      "_________________________________________________________________\n",
      "10000/10000 [==============================] - 1s 53us/step\n",
      "_________________________________________________________________\n",
      "Layer (type)                 Output Shape              Param #   \n",
      "=================================================================\n",
      "input_33 (InputLayer)        (None, 28, 28, 1)         0         \n",
      "_________________________________________________________________\n",
      "flatten_33 (Flatten)         (None, 784)               0         \n",
      "_________________________________________________________________\n",
      "dense_97 (Dense)             (None, 128)               100480    \n",
      "_________________________________________________________________\n",
      "dense_98 (Dense)             (None, 32)                4128      \n",
      "_________________________________________________________________\n",
      "dense_99 (Dense)             (None, 10)                330       \n",
      "=================================================================\n",
      "Total params: 104,938\n",
      "Trainable params: 104,938\n",
      "Non-trainable params: 0\n",
      "_________________________________________________________________\n",
      "10000/10000 [==============================] - 0s 49us/step\n",
      "_________________________________________________________________\n",
      "Layer (type)                 Output Shape              Param #   \n",
      "=================================================================\n",
      "input_34 (InputLayer)        (None, 28, 28, 1)         0         \n",
      "_________________________________________________________________\n",
      "flatten_34 (Flatten)         (None, 784)               0         \n",
      "_________________________________________________________________\n",
      "dense_100 (Dense)            (None, 115)               90275     \n",
      "_________________________________________________________________\n",
      "dense_101 (Dense)            (None, 32)                3712      \n",
      "_________________________________________________________________\n",
      "dense_102 (Dense)            (None, 10)                330       \n",
      "=================================================================\n",
      "Total params: 94,317\n",
      "Trainable params: 94,317\n",
      "Non-trainable params: 0\n",
      "_________________________________________________________________\n",
      "10000/10000 [==============================] - 0s 47us/step\n",
      "_________________________________________________________________\n",
      "Layer (type)                 Output Shape              Param #   \n",
      "=================================================================\n",
      "input_35 (InputLayer)        (None, 28, 28, 1)         0         \n",
      "_________________________________________________________________\n",
      "flatten_35 (Flatten)         (None, 784)               0         \n",
      "_________________________________________________________________\n",
      "dense_103 (Dense)            (None, 102)               80070     \n",
      "_________________________________________________________________\n",
      "dense_104 (Dense)            (None, 32)                3296      \n",
      "_________________________________________________________________\n",
      "dense_105 (Dense)            (None, 10)                330       \n",
      "=================================================================\n",
      "Total params: 83,696\n",
      "Trainable params: 83,696\n",
      "Non-trainable params: 0\n",
      "_________________________________________________________________\n",
      "10000/10000 [==============================] - 0s 48us/step\n",
      "_________________________________________________________________\n",
      "Layer (type)                 Output Shape              Param #   \n",
      "=================================================================\n",
      "input_36 (InputLayer)        (None, 28, 28, 1)         0         \n",
      "_________________________________________________________________\n",
      "flatten_36 (Flatten)         (None, 784)               0         \n",
      "_________________________________________________________________\n",
      "dense_106 (Dense)            (None, 89)                69865     \n",
      "_________________________________________________________________\n",
      "dense_107 (Dense)            (None, 32)                2880      \n",
      "_________________________________________________________________\n",
      "dense_108 (Dense)            (None, 10)                330       \n",
      "=================================================================\n",
      "Total params: 73,075\n",
      "Trainable params: 73,075\n",
      "Non-trainable params: 0\n",
      "_________________________________________________________________\n",
      "10000/10000 [==============================] - 0s 49us/step\n",
      "_________________________________________________________________\n",
      "Layer (type)                 Output Shape              Param #   \n",
      "=================================================================\n",
      "input_37 (InputLayer)        (None, 28, 28, 1)         0         \n",
      "_________________________________________________________________\n",
      "flatten_37 (Flatten)         (None, 784)               0         \n",
      "_________________________________________________________________\n",
      "dense_109 (Dense)            (None, 76)                59660     \n",
      "_________________________________________________________________\n",
      "dense_110 (Dense)            (None, 32)                2464      \n",
      "_________________________________________________________________\n",
      "dense_111 (Dense)            (None, 10)                330       \n",
      "=================================================================\n",
      "Total params: 62,454\n",
      "Trainable params: 62,454\n",
      "Non-trainable params: 0\n",
      "_________________________________________________________________\n",
      "10000/10000 [==============================] - 1s 60us/step\n",
      "_________________________________________________________________\n",
      "Layer (type)                 Output Shape              Param #   \n",
      "=================================================================\n",
      "input_38 (InputLayer)        (None, 28, 28, 1)         0         \n",
      "_________________________________________________________________\n",
      "flatten_38 (Flatten)         (None, 784)               0         \n",
      "_________________________________________________________________\n",
      "dense_112 (Dense)            (None, 64)                50240     \n",
      "_________________________________________________________________\n",
      "dense_113 (Dense)            (None, 32)                2080      \n",
      "_________________________________________________________________\n",
      "dense_114 (Dense)            (None, 10)                330       \n",
      "=================================================================\n",
      "Total params: 52,650\n",
      "Trainable params: 52,650\n",
      "Non-trainable params: 0\n",
      "_________________________________________________________________\n",
      "10000/10000 [==============================] - 1s 57us/step\n",
      "_________________________________________________________________\n",
      "Layer (type)                 Output Shape              Param #   \n",
      "=================================================================\n",
      "input_39 (InputLayer)        (None, 28, 28, 1)         0         \n",
      "_________________________________________________________________\n",
      "flatten_39 (Flatten)         (None, 784)               0         \n",
      "_________________________________________________________________\n",
      "dense_115 (Dense)            (None, 51)                40035     \n",
      "_________________________________________________________________\n",
      "dense_116 (Dense)            (None, 32)                1664      \n",
      "_________________________________________________________________\n",
      "dense_117 (Dense)            (None, 10)                330       \n",
      "=================================================================\n",
      "Total params: 42,029\n",
      "Trainable params: 42,029\n",
      "Non-trainable params: 0\n",
      "_________________________________________________________________\n"
     ]
    },
    {
     "name": "stdout",
     "output_type": "stream",
     "text": [
      "10000/10000 [==============================] - 0s 45us/step\n",
      "_________________________________________________________________\n",
      "Layer (type)                 Output Shape              Param #   \n",
      "=================================================================\n",
      "input_40 (InputLayer)        (None, 28, 28, 1)         0         \n",
      "_________________________________________________________________\n",
      "flatten_40 (Flatten)         (None, 784)               0         \n",
      "_________________________________________________________________\n",
      "dense_118 (Dense)            (None, 38)                29830     \n",
      "_________________________________________________________________\n",
      "dense_119 (Dense)            (None, 32)                1248      \n",
      "_________________________________________________________________\n",
      "dense_120 (Dense)            (None, 10)                330       \n",
      "=================================================================\n",
      "Total params: 31,408\n",
      "Trainable params: 31,408\n",
      "Non-trainable params: 0\n",
      "_________________________________________________________________\n",
      "10000/10000 [==============================] - 0s 45us/step\n",
      "_________________________________________________________________\n",
      "Layer (type)                 Output Shape              Param #   \n",
      "=================================================================\n",
      "input_41 (InputLayer)        (None, 28, 28, 1)         0         \n",
      "_________________________________________________________________\n",
      "flatten_41 (Flatten)         (None, 784)               0         \n",
      "_________________________________________________________________\n",
      "dense_121 (Dense)            (None, 25)                19625     \n",
      "_________________________________________________________________\n",
      "dense_122 (Dense)            (None, 32)                832       \n",
      "_________________________________________________________________\n",
      "dense_123 (Dense)            (None, 10)                330       \n",
      "=================================================================\n",
      "Total params: 20,787\n",
      "Trainable params: 20,787\n",
      "Non-trainable params: 0\n",
      "_________________________________________________________________\n",
      "10000/10000 [==============================] - 0s 47us/step\n",
      "_________________________________________________________________\n",
      "Layer (type)                 Output Shape              Param #   \n",
      "=================================================================\n",
      "input_42 (InputLayer)        (None, 28, 28, 1)         0         \n",
      "_________________________________________________________________\n",
      "flatten_42 (Flatten)         (None, 784)               0         \n",
      "_________________________________________________________________\n",
      "dense_124 (Dense)            (None, 12)                9420      \n",
      "_________________________________________________________________\n",
      "dense_125 (Dense)            (None, 32)                416       \n",
      "_________________________________________________________________\n",
      "dense_126 (Dense)            (None, 10)                330       \n",
      "=================================================================\n",
      "Total params: 10,166\n",
      "Trainable params: 10,166\n",
      "Non-trainable params: 0\n",
      "_________________________________________________________________\n",
      "10000/10000 [==============================] - 0s 44us/step\n"
     ]
    }
   ],
   "source": [
    "num_iter =3\n",
    "orig_neur = 256\n",
    "prune_percentage=((np.linspace(5,95,19))).tolist()\n",
    "test_acc_arr = np.zeros(len(prune_percentage))\n",
    "##------------------------------------------------------------------------------\n",
    "neurons_after_pruning = [int(orig_neur*(1- (x/100))) for x in prune_percentage]\n",
    "##------------------------------------------------------------------------------\n",
    "for i in range(len(neurons_after_pruning)):\n",
    "    model = build_model(neurons_after_pruning[i])\n",
    "    model.compile(loss='categorical_crossentropy', optimizer='adam',metrics=['accuracy'])\n",
    "    model.fit(train_images, train_labels,batch_size=100, epochs=5, validation_split=0.1,verbose=0)\n",
    "    # Evaluate MOdel\n",
    "    test_loss, test_acc = model.evaluate(test_images, test_labels)\n",
    "    test_acc_arr[i] = test_acc"
   ]
  },
  {
   "cell_type": "code",
   "execution_count": 32,
   "metadata": {},
   "outputs": [
    {
     "data": {
      "image/png": "[encoded data removed]",
      "text/plain": [
       "<Figure size 720x720 with 1 Axes>"
      ]
     },
     "metadata": {
      "needs_background": "light"
     },
     "output_type": "display_data"
    }
   ],
   "source": [
    "plt.figure(figsize=(10,10))\n",
    "test_acc_arr = test_acc_arr*100\n",
    "plt.plot(np.array(prune_percentage),test_acc_arr,marker='x',label='Accuracy after Retraining')\n",
    "plt.title(\"Accuracy vs Prune percentage plot of MLP\",fontsize=10) \n",
    "plt.xlabel('Prune Percentage -->')\n",
    "plt.ylabel('Accuracy after Pruning and Retraining')    \n",
    "plt.grid(True)\n",
    "plt.legend(loc = 'upper right')\n",
    "plt.show()"
   ]
  },
  {
   "cell_type": "code",
   "execution_count": null,
   "metadata": {},
   "outputs": [],
   "source": []
  },
  {
   "cell_type": "code",
   "execution_count": null,
   "metadata": {},
   "outputs": [],
   "source": []
  },
  {
   "cell_type": "code",
   "execution_count": null,
   "metadata": {},
   "outputs": [],
   "source": []
  },
  {
   "cell_type": "code",
   "execution_count": null,
   "metadata": {},
   "outputs": [],
   "source": []
  }
 ],
 "metadata": {
  "kernelspec": {
   "display_name": "Python 3",
   "language": "python",
   "name": "python3"
  },
  "language_info": {
   "codemirror_mode": {
    "name": "ipython",
    "version": 3
   },
   "file_extension": ".py",
   "mimetype": "text/x-python",
   "name": "python",
   "nbconvert_exporter": "python",
   "pygments_lexer": "ipython3",
   "version": "3.7.4"
  }
 },
 "nbformat": 4,
 "nbformat_minor": 2
}
